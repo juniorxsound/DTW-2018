{
 "cells": [
  {
   "cell_type": "code",
   "execution_count": 118,
   "metadata": {},
   "outputs": [],
   "source": [
    "import requests\n",
    "from bs4 import BeautifulSoup\n",
    "import json\n",
    "import os"
   ]
  },
  {
   "cell_type": "markdown",
   "metadata": {},
   "source": [
    "## Parse headlines from website\n",
    "### Example usage:\n",
    "```headlines = parseHeadlines('http://wired.com', '.headline')```"
   ]
  },
  {
   "cell_type": "code",
   "execution_count": 45,
   "metadata": {},
   "outputs": [],
   "source": [
    "def parseHeadlines(url, domClass):\n",
    "    if url is not None:\n",
    "        try:\n",
    "            response = requests.get(url)\n",
    "            html = response.text\n",
    "            soup = BeautifulSoup(html, 'html.parser')\n",
    "            titles = soup.select(domClass)\n",
    "            clean_titles = []\n",
    "            for title in titles:\n",
    "                clean_titles.append(title.get_text().strip())\n",
    "\n",
    "            return clean_titles\n",
    "        except Exception as err:\n",
    "            print('There was an error')\n",
    "            print(err)\n",
    "            \n",
    "    else:\n",
    "        print('No URL was provided')"
   ]
  },
  {
   "cell_type": "markdown",
   "metadata": {},
   "source": [
    "## Run the function"
   ]
  },
  {
   "cell_type": "code",
   "execution_count": 46,
   "metadata": {},
   "outputs": [],
   "source": [
    "headlines = parseHeadlines('https://pornhub.com', '.title')"
   ]
  },
  {
   "cell_type": "markdown",
   "metadata": {},
   "source": [
    "## Split headlines into letters and save it into a JSON file"
   ]
  },
  {
   "cell_type": "code",
   "execution_count": 129,
   "metadata": {},
   "outputs": [],
   "source": [
    "char_list = []\n",
    "\n",
    "for headline in headlines:\n",
    "    temp = headline.split(\" \")\n",
    "    for word in temp:\n",
    "        for char in list(word):\n",
    "            if char in [\" \", \"-\", \"'\", '\"', \"_\", '’', '\\\\u2019', \"`\", '’']:\n",
    "                pass\n",
    "            else:\n",
    "                char_list.append(char)\n",
    "\n",
    "char_list_obj = {'letters': char_list}\n",
    "\n",
    "with open((os.getcwd() + '/parsed_headlines_in_words.json'), 'w') as outfile:\n",
    "    json.dump(char_list_obj, outfile)"
   ]
  }
 ],
 "metadata": {
  "kernelspec": {
   "display_name": "Python 3",
   "language": "python",
   "name": "python3"
  },
  "language_info": {
   "codemirror_mode": {
    "name": "ipython",
    "version": 3
   },
   "file_extension": ".py",
   "mimetype": "text/x-python",
   "name": "python",
   "nbconvert_exporter": "python",
   "pygments_lexer": "ipython3",
   "version": "3.6.4"
  }
 },
 "nbformat": 4,
 "nbformat_minor": 2
}
