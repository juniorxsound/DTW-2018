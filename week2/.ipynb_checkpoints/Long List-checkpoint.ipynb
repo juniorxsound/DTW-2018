{
 "cells": [
  {
   "cell_type": "code",
   "execution_count": 21,
   "metadata": {},
   "outputs": [],
   "source": [
    "import requests\n",
    "from bs4 import BeautifulSoup\n",
    "from collections import Counter"
   ]
  },
  {
   "cell_type": "code",
   "execution_count": 22,
   "metadata": {},
   "outputs": [],
   "source": [
    "def getFrontPageTitles():\n",
    "    url = 'https://pornhub.com'\n",
    "    response = requests.get(url)\n",
    "    html = response.text\n",
    "    soup = BeautifulSoup(html, 'html.parser')\n",
    "    titles = soup.select('.title')\n",
    "    clean_titles = []\n",
    "    for title in titles:\n",
    "        clean_titles.append(title.text.strip().encode('utf-8'))\n",
    "    \n",
    "    return clean_titles"
   ]
  },
  {
   "cell_type": "code",
   "execution_count": 63,
   "metadata": {},
   "outputs": [
    {
     "data": {
      "text/plain": [
       "[b'Discover Videos',\n",
       " b\"Big Step Sister's Afternoon Delight - Vanessa Cage - Family Therapy\",\n",
       " b'SpyFam Step mother Brandi Love gives step daughter Elsa Jean sex advice',\n",
       " b'Bratty Sis - Fat Ass Sis Squirts On My Cock',\n",
       " b'Bratty Sis - Brother Fucks Sister Better Than Her Boyfriend S3:E4',\n",
       " b'Lorraine aka Avrora',\n",
       " b'Lorraine aka Avrora',\n",
       " b'Deutsche / German : Brunettes (M-S)',\n",
       " b'Deutsche / German : Brunettes (M-S)',\n",
       " b'Discover Categories',\n",
       " b'Discover Pornstars',\n",
       " b'Discover Community',\n",
       " b'Discover Photos & Gifs',\n",
       " b'Socks',\n",
       " b'Socks',\n",
       " b'Cowgirl Fuck',\n",
       " b'Awesome cowgirl creampie',\n",
       " b'Teacher Trouble - Nicole Aniston',\n",
       " b'Walked In On While Masturbating',\n",
       " b'GDP Doggy Style Mega Compilation',\n",
       " b'Tiny asian gets covered in cum on kayak trip - WMAF - Outdoor Facial',\n",
       " b'Gorgeous Big Boobs Cam Girl Cougar Loves Fucking',\n",
       " b'Best Lesbian Compilation Ever Made',\n",
       " b'Alexey and Irina',\n",
       " b'Brutal Facefuck in Blue: Gagging Teen Deepthroat Bondage',\n",
       " b\"Haighlee's Cock Hero No.1 - Did you cum early? - OurDirtyLilSecret\",\n",
       " b'Awesome Mom and Sons Accidental Erection HD-The Viagra Mistake Mandy Flores',\n",
       " b'SisLovesMe - Slutty Stepsis Offers A Helping Hand',\n",
       " b'Bad Ass Broads Gettin Hit',\n",
       " b'Mofos - Sexy POV deepthroat with Jennifer Ashley',\n",
       " b'young head',\n",
       " b'Real Nice Ebony Orgy Pt2',\n",
       " b'Black Dick Shemales - Scene 3 - Dark Xtreme',\n",
       " b'Ginger Elle - POV Blowjob',\n",
       " b'Big eyes babe gets her facial',\n",
       " b'Michelle Maylene inthecrack',\n",
       " b'Creamy suck n ride',\n",
       " b'POV MASSIVE FACIAL - BEST CUM SHOT EVER - OurDirtyLilSecret',\n",
       " b'joi tease pink dress',\n",
       " b'MILF Brandi Love & Hubby Have Erotic 3some With Sitter',\n",
       " b'Princess Leia (clips4sale) anal creampie',\n",
       " b'Anal-Angels.com - Nita Star - Tanned cutie opens three holes for her man',\n",
       " b'Hot Brunette Teen In Tights With Pigtails Fucked Doggystyle On Chair POV',\n",
       " b'Dyked - Teen Gets Fucked & Dominated By Straight Milf For Cash',\n",
       " b'Sissy Bimbo',\n",
       " b\"SweetSinner Karla Kush's Pussy Gushes with Creampie\",\n",
       " b'home affairs 2 - Scene 4',\n",
       " b'Ryley Grace Hot',\n",
       " b'Farting - Abducted Toilet Slave Training with Kelsey Obsession',\n",
       " b'Slutty Spinner Cadey Mercury Caught with Moms Boyfriend!',\n",
       " b'She wanted to watch me jerk off',\n",
       " b'First time facial with my BF! [amateur]',\n",
       " b'You Can Date My Daughter After I Suck Your BBC!',\n",
       " b\"Curvy Hoes Share Lex Steele's Monster Dick and Cum Spray\",\n",
       " b'FBB Oana Elena Hreapca showerfunpt.1',\n",
       " b'Asa sets up two cameras for you to see her get nice and horny',\n",
       " b'Two japanese teens cum on a black cock',\n",
       " b'My Ass Belongs To You - Secrets-Art',\n",
       " b'Blue Hair POV Blowjob and Oral Creampie from Bryci',\n",
       " b'Girls farting comp',\n",
       " b'extreme rough groupsex fuck orgy',\n",
       " b'After School Fucking',\n",
       " b'Beautiful Milf Gets Her Perfect Mature Ass Fucked',\n",
       " b'Information',\n",
       " b'Work With Us',\n",
       " b'Support and Help',\n",
       " b'Discover']"
      ]
     },
     "execution_count": 63,
     "metadata": {},
     "output_type": "execute_result"
    }
   ],
   "source": [
    "testing = getFrontPageTitles()\n",
    "testing"
   ]
  },
  {
   "cell_type": "code",
   "execution_count": 69,
   "metadata": {},
   "outputs": [],
   "source": [
    "def calculateRepetitions(list):\n",
    "    batch = []\n",
    "    for singleItem in list:\n",
    "        batch.append(singleItem.split())\n",
    "    return batch"
   ]
  },
  {
   "cell_type": "code",
   "execution_count": 71,
   "metadata": {},
   "outputs": [
    {
     "name": "stdout",
     "output_type": "stream",
     "text": [
      "[[b'Discover', b'Videos'], [b'Big', b'Step', b\"Sister's\", b'Afternoon', b'Delight', b'-', b'Vanessa', b'Cage', b'-', b'Family', b'Therapy'], [b'SpyFam', b'Step', b'mother', b'Brandi', b'Love', b'gives', b'step', b'daughter', b'Elsa', b'Jean', b'sex', b'advice'], [b'Bratty', b'Sis', b'-', b'Fat', b'Ass', b'Sis', b'Squirts', b'On', b'My', b'Cock'], [b'Bratty', b'Sis', b'-', b'Brother', b'Fucks', b'Sister', b'Better', b'Than', b'Her', b'Boyfriend', b'S3:E4'], [b'Lorraine', b'aka', b'Avrora'], [b'Lorraine', b'aka', b'Avrora'], [b'Deutsche', b'/', b'German', b':', b'Brunettes', b'(M-S)'], [b'Deutsche', b'/', b'German', b':', b'Brunettes', b'(M-S)'], [b'Discover', b'Categories'], [b'Discover', b'Pornstars'], [b'Discover', b'Community'], [b'Discover', b'Photos', b'&', b'Gifs'], [b'Socks'], [b'Socks'], [b'Cowgirl', b'Fuck'], [b'Awesome', b'cowgirl', b'creampie'], [b'Teacher', b'Trouble', b'-', b'Nicole', b'Aniston'], [b'Walked', b'In', b'On', b'While', b'Masturbating'], [b'GDP', b'Doggy', b'Style', b'Mega', b'Compilation'], [b'Tiny', b'asian', b'gets', b'covered', b'in', b'cum', b'on', b'kayak', b'trip', b'-', b'WMAF', b'-', b'Outdoor', b'Facial'], [b'Gorgeous', b'Big', b'Boobs', b'Cam', b'Girl', b'Cougar', b'Loves', b'Fucking'], [b'Best', b'Lesbian', b'Compilation', b'Ever', b'Made'], [b'Alexey', b'and', b'Irina'], [b'Brutal', b'Facefuck', b'in', b'Blue:', b'Gagging', b'Teen', b'Deepthroat', b'Bondage'], [b\"Haighlee's\", b'Cock', b'Hero', b'No.1', b'-', b'Did', b'you', b'cum', b'early?', b'-', b'OurDirtyLilSecret'], [b'Awesome', b'Mom', b'and', b'Sons', b'Accidental', b'Erection', b'HD-The', b'Viagra', b'Mistake', b'Mandy', b'Flores'], [b'SisLovesMe', b'-', b'Slutty', b'Stepsis', b'Offers', b'A', b'Helping', b'Hand'], [b'Bad', b'Ass', b'Broads', b'Gettin', b'Hit'], [b'Mofos', b'-', b'Sexy', b'POV', b'deepthroat', b'with', b'Jennifer', b'Ashley'], [b'young', b'head'], [b'Real', b'Nice', b'Ebony', b'Orgy', b'Pt2'], [b'Black', b'Dick', b'Shemales', b'-', b'Scene', b'3', b'-', b'Dark', b'Xtreme'], [b'Ginger', b'Elle', b'-', b'POV', b'Blowjob'], [b'Big', b'eyes', b'babe', b'gets', b'her', b'facial'], [b'Michelle', b'Maylene', b'inthecrack'], [b'Creamy', b'suck', b'n', b'ride'], [b'POV', b'MASSIVE', b'FACIAL', b'-', b'BEST', b'CUM', b'SHOT', b'EVER', b'-', b'OurDirtyLilSecret'], [b'joi', b'tease', b'pink', b'dress'], [b'MILF', b'Brandi', b'Love', b'&', b'Hubby', b'Have', b'Erotic', b'3some', b'With', b'Sitter'], [b'Princess', b'Leia', b'(clips4sale)', b'anal', b'creampie'], [b'Anal-Angels.com', b'-', b'Nita', b'Star', b'-', b'Tanned', b'cutie', b'opens', b'three', b'holes', b'for', b'her', b'man'], [b'Hot', b'Brunette', b'Teen', b'In', b'Tights', b'With', b'Pigtails', b'Fucked', b'Doggystyle', b'On', b'Chair', b'POV'], [b'Dyked', b'-', b'Teen', b'Gets', b'Fucked', b'&', b'Dominated', b'By', b'Straight', b'Milf', b'For', b'Cash'], [b'Sissy', b'Bimbo'], [b'SweetSinner', b'Karla', b\"Kush's\", b'Pussy', b'Gushes', b'with', b'Creampie'], [b'home', b'affairs', b'2', b'-', b'Scene', b'4'], [b'Ryley', b'Grace', b'Hot'], [b'Farting', b'-', b'Abducted', b'Toilet', b'Slave', b'Training', b'with', b'Kelsey', b'Obsession'], [b'Slutty', b'Spinner', b'Cadey', b'Mercury', b'Caught', b'with', b'Moms', b'Boyfriend!'], [b'She', b'wanted', b'to', b'watch', b'me', b'jerk', b'off'], [b'First', b'time', b'facial', b'with', b'my', b'BF!', b'[amateur]'], [b'You', b'Can', b'Date', b'My', b'Daughter', b'After', b'I', b'Suck', b'Your', b'BBC!'], [b'Curvy', b'Hoes', b'Share', b'Lex', b\"Steele's\", b'Monster', b'Dick', b'and', b'Cum', b'Spray'], [b'FBB', b'Oana', b'Elena', b'Hreapca', b'showerfunpt.1'], [b'Asa', b'sets', b'up', b'two', b'cameras', b'for', b'you', b'to', b'see', b'her', b'get', b'nice', b'and', b'horny'], [b'Two', b'japanese', b'teens', b'cum', b'on', b'a', b'black', b'cock'], [b'My', b'Ass', b'Belongs', b'To', b'You', b'-', b'Secrets-Art'], [b'Blue', b'Hair', b'POV', b'Blowjob', b'and', b'Oral', b'Creampie', b'from', b'Bryci'], [b'Girls', b'farting', b'comp'], [b'extreme', b'rough', b'groupsex', b'fuck', b'orgy'], [b'After', b'School', b'Fucking'], [b'Beautiful', b'Milf', b'Gets', b'Her', b'Perfect', b'Mature', b'Ass', b'Fucked'], [b'Information'], [b'Work', b'With', b'Us'], [b'Support', b'and', b'Help'], [b'Discover']]\n"
     ]
    }
   ],
   "source": [
    "countWords = calculateRepetitions(testing)\n",
    "print(countWords)"
   ]
  },
  {
   "cell_type": "code",
   "execution_count": null,
   "metadata": {},
   "outputs": [],
   "source": []
  }
 ],
 "metadata": {
  "kernelspec": {
   "display_name": "Python 3",
   "language": "python",
   "name": "python3"
  },
  "language_info": {
   "codemirror_mode": {
    "name": "ipython",
    "version": 3
   },
   "file_extension": ".py",
   "mimetype": "text/x-python",
   "name": "python",
   "nbconvert_exporter": "python",
   "pygments_lexer": "ipython3",
   "version": "3.6.4"
  }
 },
 "nbformat": 4,
 "nbformat_minor": 2
}
